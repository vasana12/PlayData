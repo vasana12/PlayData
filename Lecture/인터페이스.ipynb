{
 "cells": [
  {
   "cell_type": "markdown",
   "metadata": {},
   "source": [
    "# 인터페이스\n",
    "---\n",
    "자바는 다중 상속을 지원하지 않는다.  \n",
    "이 점에서 불편한 점이 생긴다.  \n",
    "  \n",
    "바로 다형성을 적용하기 힘들어 진다는 것.  \n",
    "  \n",
    "가령 부모 클래스를 상속한 2개의 자식 클래스가 있다.  \n",
    "부모 클래스에는 추상 메소드가 있고 이를 자식클래스 2개에서 각각 구현했다.  \n",
    "  \n",
    "그런데 부모 클래스와는 상관없는 하나의 클래스 Abc가 있다.  \n",
    "Abc 클래스는 자식클래스 중 하나와 비슷한 기능을 하는 메소드가 있다.  \n",
    "  \n",
    "이 때 새로운 추상 클래스와 추상 메소드를 새로 만들어  \n",
    "자식클래스 중 하나(기능이 겹치는)와  \n",
    "Abc 클래스가 추상 클래스를 상속 받으면 다형성을 사용 할 수 있다.  \n",
    "**하지만 자식클래스는 이미 상속을 받았기 때문에 다중 상속이 불가하다.**  \n",
    "\n",
    "이럴 때 **인터페이스**를 사용한다.  W\n",
    "사용법\n",
    "```\n",
    "interface Lendable {\n",
    "        (public abstract) void 메소드이름 (매개변수);  // public abstract 키워드는 디폴트로 생성된다. - 써도되고 안써도 됨\n",
    "        (public abstract) void 메소드이름 (매개변수); \n",
    "        (public abstract) void 메소드이름 (매개변수); \n",
    "}\n",
    "\n",
    "class 클래스이름 implements Lendable(){ //implements 인테페이스 이름\n",
    "\n",
    "    (public abstract) void 메소드이름 (매개변수) { //인터페이스 추상 메소드 구현 부 - 메소드 오버라이딩\n",
    "    \n",
    "    }\n",
    "    (public abstract) void 메소드이름 (매개변수) { //인터페이스 추상 메소드 구현 부 - 메소드 오버라이딩\n",
    "    \n",
    "    }\n",
    "    (public abstract) void 메소드이름 (매개변수) { //인터페이스 추상 메소드 구현 부 - 메소드 오버라이딩\n",
    "    \n",
    "    }\n",
    "}\n",
    "\n",
    "\n",
    "```\n"
   ]
  }
 ],
 "metadata": {
  "kernelspec": {
   "display_name": "Python 3",
   "language": "python",
   "name": "python3"
  },
  "language_info": {
   "codemirror_mode": {
    "name": "ipython",
    "version": 3
   },
   "file_extension": ".py",
   "mimetype": "text/x-python",
   "name": "python",
   "nbconvert_exporter": "python",
   "pygments_lexer": "ipython3",
   "version": "3.6.5"
  }
 },
 "nbformat": 4,
 "nbformat_minor": 2
}
