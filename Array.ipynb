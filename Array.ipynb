{
 "cells": [
  {
   "cell_type": "markdown",
   "metadata": {},
   "source": [
    "# 배열\n",
    "---\n",
    "### 배열의 선언 형식\n",
    "```\n",
    " int arr[];   \n",
    "\n",
    " arr = new int[3];\n",
    "```\n",
    "\n",
    "참조변수인 int형 배열을 선언   \n",
    "\n",
    "  \n",
    "  \n",
    "- 저장공간의 크기는 int이고 개수는 3개로 메모리를 할당하게 됨.\n",
    " 즉 크기는 4byte(int형의 크기)이고 3개의 연속된 메모리 공간을 할당함.\n",
    " >메모리는 다음과 같이 {4byte},{4byte},{4byte} int인 3개의 변수를 연속되게 할당됨.  \n",
    "                       \n",
    " arr는 값을 직접 저장하는게 아니라,     \n",
    " 위의 { },{ },{ }의 메모리 주소를 가르키게 됨.   \n",
    "     \n",
    "    \n",
    "    \n",
    "- arr의 주소 : ex) 50\n",
    "              첫번째 배열원소의 주소(100)를 저장 \n",
    "  arr : 100\n",
    " -->{----}---{----}---{----}  \n",
    " -------------- 100----104----108  \n",
    " -------------- arr+0--arr+1--arr+2  \n",
    " -------------- arr[0]--arr[1]--arr[2]  \n",
    " \n",
    " 첫 번째 {4byte}의 메모리 주소가 100이라고 하면  \n",
    " 두 번째 {4byte}의 메모리 주소는 104  \n",
    " 세 번째는 108이 된다.  \n",
    "   \n",
    " 이 후 각 메모리에 값을 저장하기 위해서는  \n",
    " arr를 이용한다.  \n",
    "   \n",
    " arr[0], arr[1], arr[2] 처럼,   \n",
    " arr뒤에 있는 괄호와 숫자로 해당 주소를 가르키고, 값을 저장하거나 불러올 수 있다.  \n",
    " [정수]를 arr의 인덱스 라고 한다.\n",
    " \n",
    "\n"
   ]
  },
  {
   "cell_type": "code",
   "execution_count": null,
   "metadata": {},
   "outputs": [],
   "source": []
  }
 ],
 "metadata": {
  "kernelspec": {
   "display_name": "Python 3",
   "language": "python",
   "name": "python3"
  },
  "language_info": {
   "codemirror_mode": {
    "name": "ipython",
    "version": 3
   },
   "file_extension": ".py",
   "mimetype": "text/x-python",
   "name": "python",
   "nbconvert_exporter": "python",
   "pygments_lexer": "ipython3",
   "version": "3.6.5"
  }
 },
 "nbformat": 4,
 "nbformat_minor": 2
}
