{
 "cells": [
  {
   "cell_type": "markdown",
   "metadata": {},
   "source": [
    "# 파일 입출력\n",
    "---  \n",
    "  \n",
    "### 자바에서 파일 입 출력 \n",
    "1. 파일 오픈\n",
    "2. 파일 사용\n",
    "3. 파일 닫기 \n",
    "**파일을 닫을 때 무조건 예외처리 catch블럭 에서 파일을 닫아야 한다.**"
   ]
  }
 ],
 "metadata": {
  "kernelspec": {
   "display_name": "Python 3",
   "language": "python",
   "name": "python3"
  },
  "language_info": {
   "codemirror_mode": {
    "name": "ipython",
    "version": 3
   },
   "file_extension": ".py",
   "mimetype": "text/x-python",
   "name": "python",
   "nbconvert_exporter": "python",
   "pygments_lexer": "ipython3",
   "version": "3.6.5"
  }
 },
 "nbformat": 4,
 "nbformat_minor": 2
}
