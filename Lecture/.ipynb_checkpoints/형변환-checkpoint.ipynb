{
 "cells": [
  {
   "cell_type": "markdown",
   "metadata": {},
   "source": [
    "# 형변환   \n",
    "---\n",
    "\n",
    "작은 형식에서 큰 형식으로 변환시 오류 발생    \n",
    "ex) \n",
    "```\n",
    "byte b = 100;          \n",
    "byte c = b + 1;  //에러 발생  \n",
    "```\n",
    "b : byte  \n",
    "\n",
    "1 : int   \n",
    "\n",
    "두 형식의 합을 byte C에 대입할 때 에러 발생 \n",
    "            \n",
    "#### b + 1의 결과는 int\n",
    "byte인 c에 int를 대입하면 값의 큰 손실이 발생하기 때문에 형변환 에러가 발생한다.  \n",
    "다른 문맥 형식의 형끼리의 연산도 마찬가지이다. 문제를 해결하기 위해 다음과 같은 방법을 이용한다.     \n",
    "  \n",
    "ex)  \n",
    "\n",
    "```\n",
    " short a= 5, b =3;  \n",
    " short c = a + b; //에러 발생   \n",
    "                  //(a + b 연산식이 자동을 int로 변환되어 계산되고,  \n",
    "                  //계산된 int형인 정수 8이 short c에 대입되면서 에러)  \n",
    "```\n",
    "---\n",
    "#### 에러를 제거하기 위해 2가지 방법을 사용한다.\n",
    "            \n",
    "1. c를 int 형으로 선언\n",
    "2. (byte)(b + 1); 로 수정 -> 계산의 결과를 byte로 형변환하여 c에 저장\n",
    "        \n",
    "   "
   ]
  }
 ],
 "metadata": {
  "kernelspec": {
   "display_name": "Python 3",
   "language": "python",
   "name": "python3"
  },
  "language_info": {
   "codemirror_mode": {
    "name": "ipython",
    "version": 3
   },
   "file_extension": ".py",
   "mimetype": "text/x-python",
   "name": "python",
   "nbconvert_exporter": "python",
   "pygments_lexer": "ipython3",
   "version": "3.6.5"
  }
 },
 "nbformat": 4,
 "nbformat_minor": 2
}
