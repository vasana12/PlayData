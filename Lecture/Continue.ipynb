{
 "cells": [
  {
   "cell_type": "markdown",
   "metadata": {},
   "source": [
    "# Continue\n",
    "---\n",
    "  \n",
    "  - **예제**\n",
    "  \n",
    "```\n",
    "public static void main(String[] args) {\n",
    "\t\tfor( int cnt = 0; cnt < 10; cnt++) {\n",
    "\t\t\tif(cnt == 5) {\n",
    "            \n",
    "\t\t\t\tcontinue;\n",
    "\t\t\t}\n",
    "\t\t\tout.println(cnt);\n",
    "\t\t}\n",
    "\t\tout.println(\"Done\");\n",
    "```\n",
    "0  \n",
    "1  \n",
    "2  \n",
    "3  \n",
    "4  \n",
    "6  \n",
    "7  \n",
    "8  \n",
    "9  \n",
    "Done    \n",
    "\n",
    "---\n",
    "\n",
    "\n",
    "- **주의**  \n",
    "    반복문 중 continue 문을 만나면 continue 아래 있는 코드는 무시하고\n",
    "    반복문으로 돌아간다. (초기문으로 가는 것이 아님)    \n",
    "  \n",
    "    \n",
    "- **라벨과 continue**\n",
    "    다른 다중 반복문에서 탈출 하고자 할 때 라벨과 break를 사용하듯   \n",
    "    continue와 라벨을 이용하여 특정 반복문을 건너 뛰고 실행 할 수 있다.  \n",
    "    \n",
    "```\n",
    "    outerFor : //라벨 명\n",
    "\t\tfor( int cnt = 0; cnt < 5; cnt++) {\n",
    "\t\t\tif(cnt == 3) {\n",
    "\t\t\t\tcontinue;\n",
    "\t\t\t}\n",
    "\t\t\tfor(int i = 0; i < 5; i++) {\n",
    "\t\t\t\tout.printf(\"cnt= %d, i = %d\\n\",cnt, i);\n",
    "\t\t\t\tif(i ==2)\n",
    "\t\t\t\t\tcontinue outerFor;\n",
    "\t\t\t}\n",
    "\t\t}\n",
    "\t\tout.println(\"Done\");\n",
    "```"
   ]
  }
 ],
 "metadata": {
  "kernelspec": {
   "display_name": "Python 3",
   "language": "python",
   "name": "python3"
  },
  "language_info": {
   "codemirror_mode": {
    "name": "ipython",
    "version": 3
   },
   "file_extension": ".py",
   "mimetype": "text/x-python",
   "name": "python",
   "nbconvert_exporter": "python",
   "pygments_lexer": "ipython3",
   "version": "3.6.5"
  }
 },
 "nbformat": 4,
 "nbformat_minor": 2
}
