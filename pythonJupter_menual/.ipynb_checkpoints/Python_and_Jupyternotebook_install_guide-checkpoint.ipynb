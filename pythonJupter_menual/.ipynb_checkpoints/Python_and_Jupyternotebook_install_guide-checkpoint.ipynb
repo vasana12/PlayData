{
 "cells": [
  {
   "cell_type": "markdown",
   "metadata": {},
   "source": [
    "# Python and Jupyter notebook install menual  \n",
    "---\n",
    "파이썬과 주피터 노트북 설치 메뉴얼  \n",
    "  \n",
    "우선 파이썬부터 설치해야 한다. 메뉴얼은 다음과 같다.  \n",
    "  \n",
    "1. [python install link](https://www.python.org/downloads/release/python-365/)  \n",
    "   해당 홈페이지 접속 후 스크롤을 맨 아래 쪽으로 내린다.  \n",
    "   ![python_homepage](https://github.com/wookim789/PlayData/blob/master/img/python_file.png?raw=true)"
   ]
  }
 ],
 "metadata": {
  "kernelspec": {
   "display_name": "Python 3",
   "language": "python",
   "name": "python3"
  },
  "language_info": {
   "codemirror_mode": {
    "name": "ipython",
    "version": 3
   },
   "file_extension": ".py",
   "mimetype": "text/x-python",
   "name": "python",
   "nbconvert_exporter": "python",
   "pygments_lexer": "ipython3",
   "version": "3.6.5"
  }
 },
 "nbformat": 4,
 "nbformat_minor": 2
}
