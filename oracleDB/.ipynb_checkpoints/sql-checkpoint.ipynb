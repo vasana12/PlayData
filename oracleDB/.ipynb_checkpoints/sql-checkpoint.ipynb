{
 "cells": [
  {
   "cell_type": "markdown",
   "metadata": {},
   "source": [
    "# sql문 정리 (Oracle) \n",
    "\n",
    "\n",
    "### 1. select * from 테이블명;  \n",
    " - 해당 테이블의 모든 데이터열과 행을 출력  \n",
    "\n",
    "### 2. select coloumn from 테이블명;  \n",
    "- 해당 테이블의 coloumn(열)의 데이터만 출력  \n",
    "\n",
    "### 3. select coloumn1, coloumn2,....,coloumnN from 테이블명;\n",
    "- 해당 테이블의 열들을 위의 나열 순서대로 출력  \n",
    "  \n",
    "### 4. select * from 테이블명  where coloumn 조건식;\n",
    "- 모든 열을 출력. 다만, where 절에서 지정한 coloumn의 데이터가 해당 조건식을 만족 할때, 출력.\n",
    "ex)  \n",
    "tabel1   \n",
    ">[name] [id] [age]   \n",
    "         kim/  a/   20  \n",
    "         lee/  b/  23  \n",
    "         kim/  c/   24  \n",
    "         gang/ d/   21  \n",
    "         go/   e/   19  \n",
    "           \n",
    "**select * from table1  \n",
    "where age > 22;**  \n",
    "  \n",
    "출력 결과 :  \n",
    ">[name] [id] [age]  \n",
    "lee/ b/ 23    \n",
    "kim/ c/ 24  \n",
    "\n",
    "  \n",
    "### 5. and, or, not \n",
    "- 프로그래밍 언어에서 사용하는 &, |, ! 연산자의 역할  \n",
    "\n",
    "### 6. coloumn Between A and B\n",
    "- 해당 coloumn에서 A와 B사이의 데이터를 검색 할 때 사용\n",
    "\n",
    "### 7. or 역할을 대체하는 in()연산자\n",
    "- coloumn in('a','b','c')  coloumn에서 a 또는 b 또는 c이 되면 참 \n",
    "ex) select * from table1  \n",
    "where id in('a','b','c');\n",
    "\n",
    "출력 결과 : \n",
    ">[name] [id] [age]  \n",
    "kim/  a/   20  \n",
    "         lee/  b/  23  \n",
    "         kim/  c/   24  \n",
    "\n"
   ]
  }
 ],
 "metadata": {
  "kernelspec": {
   "display_name": "Python 3",
   "language": "python",
   "name": "python3"
  },
  "language_info": {
   "codemirror_mode": {
    "name": "ipython",
    "version": 3
   },
   "file_extension": ".py",
   "mimetype": "text/x-python",
   "name": "python",
   "nbconvert_exporter": "python",
   "pygments_lexer": "ipython3",
   "version": "3.6.5"
  }
 },
 "nbformat": 4,
 "nbformat_minor": 2
}
