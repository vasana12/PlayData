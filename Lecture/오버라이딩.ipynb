{
 "cells": [
  {
   "cell_type": "markdown",
   "metadata": {},
   "source": [
    "# 메소드 오버라이딩  \n",
    "---\n",
    "  \n",
    "#### 메소드 오버라이딩은 클래스 상속간에 사용되는 개념이다.  \n",
    "  \n",
    "메소드 오러라이딩은 상속 받은 자식 클래스에서  \n",
    "부모 클래스에 있는 메소드를 다시 정의하고 싶을 때,  \n",
    "사용하는 개념이다.  \n",
    "  \n",
    "예를 들자면,  \n",
    "부모클래스에서 add()라는 메소드를 선언했다.  \n",
    "이를 자식 클래스에서 같은 시그니처(메소드의 이름, 매개변수, 등)의 메소드로  \n",
    "재정의 하고 싶다.  \n",
    "\n",
    "즉 add()메소드의 내부적인 내용이 바뀌어서 다시 정의하고 싶다.  \n",
    "이 때 메소드 오버라이딩을 사용한다.  \n",
    "\n",
    "ex)\n",
    "```\n",
    "class parents {\n",
    "    int add ( int a, int b){\n",
    "        return a + b;\n",
    "    }\n",
    "}\n",
    "\n",
    "class child {\n",
    "    int add ( int a, int b){\n",
    "        if(a+b <10){\n",
    "            return a + b;\n",
    "        }else{\n",
    "            System.out.print(\"10 초과\");\n",
    "            return 0;\n",
    "        }\n",
    "    }\n",
    "}\n",
    "```\n",
    "위의 코드의 상황을 설명하겠다.  \n",
    "부모 클래스에서 add 메소드를 선언했고, 매개변수 2개를 받아 서로 더해,  \n",
    "리턴해주는 간단한 메소드 이다.  \n",
    "  \n",
    "이런 클래스를 상속받은 child클래스 에서  \n",
    "add메소드를 변경하고 싶은 상황이 발생했다.  \n",
    "add메소드에서 받는 매개변수 2개의 합이  \n",
    "10보다 작을 때에만 값을 리턴받고 싶은 상황이다.  \n",
    "이럴 때 위와같이 \n",
    "### 같은 시그니처 (리턴 타입, 식별자 이름, 매개변수 타입과, 개수 )의 메소드를 다시 정의한다.\n",
    "이를 **메소드 오버라이딩** 이라한다.\n",
    "\n",
    "### 오버라이딩 이후 부모 클래스의 메소드를 쓰고 싶을 때  \n",
    "super.메소드이름(매개변수)   \n",
    "처럼 super.으로 부모 클래스의 메소드에 접근 할 수 있다.  \n",
    "C#의 base역할을 super가 한다고 생각하자."
   ]
  }
 ],
 "metadata": {
  "kernelspec": {
   "display_name": "Python 3",
   "language": "python",
   "name": "python3"
  },
  "language_info": {
   "codemirror_mode": {
    "name": "ipython",
    "version": 3
   },
   "file_extension": ".py",
   "mimetype": "text/x-python",
   "name": "python",
   "nbconvert_exporter": "python",
   "pygments_lexer": "ipython3",
   "version": "3.6.5"
  }
 },
 "nbformat": 4,
 "nbformat_minor": 2
}
