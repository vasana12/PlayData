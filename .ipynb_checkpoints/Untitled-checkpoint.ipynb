{
 "cells": [
  {
   "cell_type": "markdown",
   "metadata": {},
   "source": [
    "# Bit Operators\n",
    "---\n",
    "  \n",
    "#### 정의  \n",
    "  피연산자가 데이터 구성이 비트로 이루어져 있을 때 AND, OR, XOR, NOT 연산을 수행하는 연산자  \n",
    "    \n",
    "  피연산자 & 피연산자 (피연산자는 비트로 구성)  \n",
    "  \n",
    "  ```\n",
    "  byte a = 3, b = 5;\n",
    "  \n",
    "      a = 0 0 0 0  0 0 1 1 (+3)  \n",
    "      b = 0 0 0 0  0 1 0 1 (+5)  \n",
    "  a & b = 0 0 0 0  0 0 0 1 (+1)  \n",
    "  a | b = 0 0 0 0  0 1 1 1 (+7)  \n",
    "  a ^ b = 0 0 0 0  0 1 1 0 (+6)  \n",
    "    \n",
    "  ~a =    1 1 1 1  1 1 0 0 (-?) -> 정수 파트에서 2의 보수를 이용한 수 계산법 이용  \n",
    "       -> 0 0 0 0  0 1 0 0 (-4)  \n",
    "  ```\n",
    "  \n",
    "  "
   ]
  }
 ],
 "metadata": {
  "kernelspec": {
   "display_name": "Python 3",
   "language": "python",
   "name": "python3"
  },
  "language_info": {
   "codemirror_mode": {
    "name": "ipython",
    "version": 3
   },
   "file_extension": ".py",
   "mimetype": "text/x-python",
   "name": "python",
   "nbconvert_exporter": "python",
   "pygments_lexer": "ipython3",
   "version": "3.6.5"
  }
 },
 "nbformat": 4,
 "nbformat_minor": 2
}
