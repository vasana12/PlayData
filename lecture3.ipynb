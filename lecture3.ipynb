{
 "cells": [
  {
   "cell_type": "markdown",
   "metadata": {},
   "source": [
    "# 글로벌 변수와 로컬 변수\n",
    "---\n",
    "```\n",
    "  class Myclass {\n",
    "      int a;\n",
    "      public static void main(String args[]){\n",
    "          int b;\n",
    "       }\n",
    "    }\n",
    "    \n",
    "```\n",
    " \n",
    "  ### 위의 코드에서 a와 b의 차이는 뭘까?\n",
    "   - a : 클래스의 필드 (글로벌 변수)  \n",
    "   코드 실행 시 즉시 메모리 할당  \n",
    "   \n",
    "   \n",
    "   - b : 메서드의 변수 (로컬 변수)    \n",
    "   코드 실행 후 해당 코드블럭에서 메모리 할당\n",
    "   \n",
    "   \n",
    "   "
   ]
  }
 ],
 "metadata": {
  "kernelspec": {
   "display_name": "Python 3",
   "language": "python",
   "name": "python3"
  },
  "language_info": {
   "codemirror_mode": {
    "name": "ipython",
    "version": 3
   },
   "file_extension": ".py",
   "mimetype": "text/x-python",
   "name": "python",
   "nbconvert_exporter": "python",
   "pygments_lexer": "ipython3",
   "version": "3.6.5"
  }
 },
 "nbformat": 4,
 "nbformat_minor": 2
}
