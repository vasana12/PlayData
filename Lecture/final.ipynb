{
 "cells": [
  {
   "cell_type": "markdown",
   "metadata": {},
   "source": [
    "# final 변수  \n",
    "\n",
    "---  \n",
    "final 변수 : 값을 딱 한번만 대입 \n",
    "\n",
    "```\n",
    "final int pi = 3.14;\n",
    "\n",
    "pi = 5; //에러\n",
    "\n",
    "```\n",
    "\n",
    "### final 변수를 class에서 선언.\n",
    "**클래스 내의 필드에서 정의 할때, 혹은 새성자 안에서만 초기화가 가능하다.**"
   ]
  }
 ],
 "metadata": {
  "kernelspec": {
   "display_name": "Python 3",
   "language": "python",
   "name": "python3"
  },
  "language_info": {
   "codemirror_mode": {
    "name": "ipython",
    "version": 3
   },
   "file_extension": ".py",
   "mimetype": "text/x-python",
   "name": "python",
   "nbconvert_exporter": "python",
   "pygments_lexer": "ipython3",
   "version": "3.6.5"
  }
 },
 "nbformat": 4,
 "nbformat_minor": 2
}
