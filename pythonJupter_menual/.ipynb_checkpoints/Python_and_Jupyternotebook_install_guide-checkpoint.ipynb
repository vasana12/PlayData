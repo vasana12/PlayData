{
 "cells": [
  {
   "cell_type": "markdown",
   "metadata": {},
   "source": [
    "# Python and Jupyter notebook install menual  \n",
    "---\n",
    "파이썬과 주피터 노트북 설치 메뉴얼  \n",
    "  \n",
    "우선 파이썬부터 설치해야 한다. 메뉴얼은 다음과 같다.  \n",
    "  \n",
    "1. [python install link](https://www.python.org/downloads/release/python-365/)  \n",
    "   해당 홈페이지 접속 후 스크롤을 맨 아래 쪽으로 내린다.  \n",
    "   ![python_homepage](https://github.com/wookim789/PlayData/blob/master/img/python_file.png?raw=true)  \n",
    "   file 단락을 찾고 나서 **Windows x86-64 executable installer**을 눌러 다운받는다.(64bit이다. tensorflow를 사용하기 위함)  \n",
    "   \n",
    "  \n",
    "2. 다운 받은 설치 파일을 실행시킨다.  \n",
    "   기본 설치 경로를 손대지 않고 설치하는 것을 추천한다.  \n",
    "   ![이미지 출처:점프투파이썬](https://wikidocs.net/images/page/8/install_python.png)  \n",
    "   **주의** 위 화면에서 add python path를 꼭 체크할 것  \n",
    "  \n",
    "  \n",
    "3. 파이썬 설치 완료 후 시작키를 눌른다.  \n",
    "   그리고 **powershell**을 검색하고 실행시킨다. (관리자 권한으로 실행할 것을 권한다)  \n",
    "   \n",
    "4. 이후 powershell 에 **python**을 쳐본다.  \n",
    "    ![powershell](https://github.com/wookim789/PlayData/blob/master/img/powershell.png?raw=true)  \n",
    "    이렇게 명령문이 실행 됬다면 정상 적으로 파이썬이 설치된 것이다.\n",
    "    \n",
    "5. 다음 **eixt()**를 입력하고 엔터를 친다.\n",
    "   이는 파이썬을 종료하는 것이다.\n",
    "  \n",
    "6. 다음 **python -m pip**을 처본다  \n",
    "    ![pip](https://github.com/wookim789/PlayData/blob/master/img/pipin.png?raw=true)  \n",
    "    처럼 나온다면 정상적인 것이다. 겁먹지 말자.  \n",
    "    \n",
    "7. 다음 **python -m pip install --upgrade pip**을 치고 엔터를 누룬다.  \n",
    "    ![pip upgrade](https://github.com/wookim789/PlayData/blob/master/img/pip.png?raw=true)  \n",
    "    버전마다 다운로드 되는 모습이 다르겠지만 Successfully installed pip-10.0.1 이런식으로 끝난다면 성공.  \n",
    "  \n",
    "8. 다음은 시작버튼을 누르고 python을 친다.  \n",
    "   그리고 파이썬 3.6에서 오른쪽 마우스 클릭 **파일 위치 열기**를 클릭\n",
    "   ![시작에 python 검색](https://github.com/wookim789/PlayData/blob/master/img/python_location1.png?raw=true)\n",
    "     \n",
    "9. 다음은 해당 폴더에서 python 3.6(64bit)에서 오른쪽 클릭 **파일 위치 열기**를 클릭한다\n",
    "   ![파일위치 열기](https://github.com/wookim789/PlayData/blob/master/img/python_location2.png?raw=true)\n",
    "  \n",
    "10. \n",
    "\n",
    "    "
   ]
  }
 ],
 "metadata": {
  "kernelspec": {
   "display_name": "Python 3",
   "language": "python",
   "name": "python3"
  },
  "language_info": {
   "codemirror_mode": {
    "name": "ipython",
    "version": 3
   },
   "file_extension": ".py",
   "mimetype": "text/x-python",
   "name": "python",
   "nbconvert_exporter": "python",
   "pygments_lexer": "ipython3",
   "version": "3.6.5"
  }
 },
 "nbformat": 4,
 "nbformat_minor": 2
}
