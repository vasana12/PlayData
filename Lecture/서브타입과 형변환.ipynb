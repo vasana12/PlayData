{
 "cells": [
  {
   "cell_type": "markdown",
   "metadata": {},
   "source": [
    "# 서브타입과 클래스 형변환\n",
    "---\n",
    "\n",
    "### 서브 타입 \n",
    "서로 타입이 다른 obj1, obj2가 있다. 하지만 서로 상속 관계에 있어,  \n",
    "obj1 = obj2 는 가능하다.  (obj1 : 부모, obj2 : 자식)  \n",
    "이럴 때 obj2를 obj1의 서브타입이라 한다.  \n",
    "  \n",
    "### 클래스 형변환  \n",
    "다음과 같은 상황에서 클래스 형변환이 가능하다.\n",
    "\n",
    "ex)\n",
    "```\n",
    "class Account(...){\n",
    "...\n",
    "}\n",
    "class CheckAccount(...) extends Account { //Account 클래스 상속\n",
    "...\n",
    "}\n",
    "\n",
    "Account a = new CheckAccount(...);\n",
    "CheckAccount b = a; // 불가능 -> 부모 클래스를 자식 클래스에 대입 불가\n",
    "\n",
    "Account a = new Account(...);\n",
    "CheckAccount b = a ; //불가능  -> 부모 클래스를 자식 클래스에 대입 불가\n",
    "\n",
    "Account a = new CheckAccount(...);\n",
    "CheckAccount b = (CheckAccount)a; // 가능 -> a의 서브 타입은 CheckAccount 이기 때문에 클래스 형변환 가능\n",
    "\n",
    "Account a = new Account(...);\n",
    "CheckAccount b = (CheckAccount)a; //불가능 ->a의 서브 타입은 Account 이므로 형변환 불가능\n",
    "\n",
    "}\n",
    "```"
   ]
  }
 ],
 "metadata": {
  "kernelspec": {
   "display_name": "Python 3",
   "language": "python",
   "name": "python3"
  },
  "language_info": {
   "codemirror_mode": {
    "name": "ipython",
    "version": 3
   },
   "file_extension": ".py",
   "mimetype": "text/x-python",
   "name": "python",
   "nbconvert_exporter": "python",
   "pygments_lexer": "ipython3",
   "version": "3.6.5"
  }
 },
 "nbformat": 4,
 "nbformat_minor": 2
}
