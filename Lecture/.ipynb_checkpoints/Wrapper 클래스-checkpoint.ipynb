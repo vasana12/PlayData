{
 "cells": [
  {
   "cell_type": "markdown",
   "metadata": {},
   "source": [
    "# Wrapper 클래스   \n",
    "---\n",
    "  \n",
    "### 프리미티브 데이터를 객체로  \n",
    "Wrapper 클래스는 프리미티브(값)형식의 데이터를 객체화 하는 클래스다.  \n",
    "  \n",
    "  \n",
    "ex)\n",
    "```\n",
    "Integer a = Integer.valueOf(10);\n",
    "int b = a.intValue();\n",
    "\n",
    "```\n",
    "위 의 코드에서 Integer는 클래스이고 a는 Integer클래스의 인스턴스(객체)이다.  \n",
    "그리고 valueOf()메소드는 Integer class의 스태틱 메소드이다.  \n",
    "매개변수로 해당 클래스가 지원하는 프리미티브 형식의 매개변수값을 받고  \n",
    "객체화 한다.  \n",
    "그 다음 a.intValue()는 a를 값형식으로 바꾸어 준다.\n",
    "\n",
    "위의 과정을 Boxing과 unBoxing이라 한다.  \n",
    "\n",
    "---\n",
    "\n",
    "\n",
    "# Boxing과 UnBoxing  \n",
    "\n",
    "  \n",
    "### Boxing\n",
    "프리미티브(값)형식의 데이터를  \n",
    "객체형식으로 바꿔주는 행위  \n",
    "  \n",
    "### UnBoxing\n",
    "객체형식의 데이터를  \n",
    "프리미티브(값)형식으로 바꿔주는 행위  \n",
    "  \n",
    "### 자바에서는 편의를 위해 자동 boxing, unboxing을 지원한다.  \n",
    "\n",
    "\n",
    "# Wrapper 클래스를 왜 사용하는가?\n",
    "---\n",
    "이는 자료구조 중 리스트의 인자는 값형식을 사용할 수 없기 때문이다.    \n",
    "이는 자료구조에서 설명하겠다.  \n",
    "\n"
   ]
  }
 ],
 "metadata": {
  "kernelspec": {
   "display_name": "Python 3",
   "language": "python",
   "name": "python3"
  },
  "language_info": {
   "codemirror_mode": {
    "name": "ipython",
    "version": 3
   },
   "file_extension": ".py",
   "mimetype": "text/x-python",
   "name": "python",
   "nbconvert_exporter": "python",
   "pygments_lexer": "ipython3",
   "version": "3.6.5"
  }
 },
 "nbformat": 4,
 "nbformat_minor": 2
}
