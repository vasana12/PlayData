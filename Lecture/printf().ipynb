{
 "cells": [
  {
   "cell_type": "markdown",
   "metadata": {},
   "source": [
    "# printf()  \n",
    "--- \n",
    "  - 자바의 printf()  \n",
    "  \n",
    "  C#에서 \n",
    "  ```\n",
    "  int a, b, c = 0;  \n",
    "  ConsoleWrite(\"a = [0], b = [1], c = [2]\", a, b, c);  \n",
    "  ```\n",
    " 와 같이 출력 문을 작성하는 것처럼 사용하고 싶을 때  \n",
    " 자바는 다음과 같이 사용한다. (C)\n",
    " \n",
    " ```\n",
    " int a, b, c =0;  \n",
    " printf(\"%d, %d, %d\", a,b,c);  \n",
    " ```  \n",
    " 처럼 사용한다. 이때 팁이 있는데,  \n",
    " 출력문의 길이를 지정해 줄 수 있다.  \n",
    " \n",
    " ```  \n",
    " int a, b = 100;  \n",
    " int c = 50;  \n",
    " printf(\"%3d, %3d, %2d\", a, b, c);  \n",
    " ```\n",
    " 하면 a, b가 3자리 수가 아니여도 출력 공간은 3칸이 유지됨.\n",
    " c자리는 2자리가 유지됨.\n",
    " \n",
    " 숫자 자리가 해당 지정수보다 크면 자동으로 넓어지니 짤릴 걱정은 안해도 됨.  \n",
    " 그리고 float형태가 있는데\n",
    " \n",
    " ```\n",
    " float a= 2.5555;  \n",
    " printf(\"%4.2f\",a);  \n",
    " ```\n",
    " 하면 정수부는 4자리가 할당되고, 소수자리는 2자리까지 자리가 확보되어 총 6자리가 확보된다.  \n",
    " ```\n",
    " //결과  \n",
    "    2.55\n",
    " ```\n",
    "  추가되는 숫자는 정수는 추가되고, 소수부는 반올림하여 처리된다.\n",
    " "
   ]
  }
 ],
 "metadata": {
  "kernelspec": {
   "display_name": "Python 3",
   "language": "python",
   "name": "python3"
  },
  "language_info": {
   "codemirror_mode": {
    "name": "ipython",
    "version": 3
   },
   "file_extension": ".py",
   "mimetype": "text/x-python",
   "name": "python",
   "nbconvert_exporter": "python",
   "pygments_lexer": "ipython3",
   "version": "3.6.5"
  }
 },
 "nbformat": 4,
 "nbformat_minor": 2
}
