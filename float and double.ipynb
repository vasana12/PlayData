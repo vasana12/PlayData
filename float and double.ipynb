{
 "cells": [
  {
   "cell_type": "markdown",
   "metadata": {},
   "source": [
    "# float and double  \n",
    "\n",
    "- float \n",
    "    유효숫자 : 소숫점 아래 6자리 \n",
    "- double \n",
    "    유효숫자 : 소숫점 아래 ?자리\n",
    "    \n",
    " 이유 - 컴퓨터 구조상 각 자료형의 유효숫자 범위가 있음. 참고 할것."
   ]
  }
 ],
 "metadata": {
  "kernelspec": {
   "display_name": "Python 3",
   "language": "python",
   "name": "python3"
  },
  "language_info": {
   "codemirror_mode": {
    "name": "ipython",
    "version": 3
   },
   "file_extension": ".py",
   "mimetype": "text/x-python",
   "name": "python",
   "nbconvert_exporter": "python",
   "pygments_lexer": "ipython3",
   "version": "3.6.5"
  }
 },
 "nbformat": 4,
 "nbformat_minor": 2
}
