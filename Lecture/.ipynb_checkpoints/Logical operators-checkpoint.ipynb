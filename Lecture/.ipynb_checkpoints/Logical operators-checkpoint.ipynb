{
 "cells": [
  {
   "cell_type": "markdown",
   "metadata": {},
   "source": [
    "# Logical operators  \n",
    "---\n",
    "\n",
    "- 형식   \n",
    "    논리식1 & 논리식2 , 논리식1 | 논리식2    \n",
    "    논리식1 && 논리식2 , 논리식1 || 논리식2    \n",
    "  \n",
    "  \n",
    "- 알아두면 좋은 점!  \n",
    "\n",
    "\n",
    "  \n",
    "  &,|와  &&,||는 같은 맥락의 논리 연산자다.   \n",
    "  하지만 차이점이 있는데,  \n",
    "    \n",
    "    \n",
    "    \n",
    "  &, |는 양 쪽의 논리식을 모두 수행하고 비교를 한다.  \n",
    "  &&, ||는 왼쪽의 논리식이 결과에 영향을 미치는 값이 나오면  오른쪽 연산식을 수행하지 않고 \n",
    "  결과를 바로 반환한다.\n",
    "    \n",
    "  ex) 1 > 2 & 3 > 1   \n",
    "  연산 순서   \n",
    "  1 > 2 : false  \n",
    "  3 > 1 : true\n",
    "  \n",
    "  false & true : false\n",
    "  \n",
    "  ex) 1 > 2 && 3 > 1  \n",
    "  연산 순서  \n",
    "  1 > 2 : false  \n",
    "  바로 결과값을 false로 리턴  \n",
    "  \n",
    "  #### 위의 두가지 종류의 논리연산자의 차이를 이해하길 바란다.\n",
    "          \n",
    "  "
   ]
  }
 ],
 "metadata": {
  "kernelspec": {
   "display_name": "Python 3",
   "language": "python",
   "name": "python3"
  },
  "language_info": {
   "codemirror_mode": {
    "name": "ipython",
    "version": 3
   },
   "file_extension": ".py",
   "mimetype": "text/x-python",
   "name": "python",
   "nbconvert_exporter": "python",
   "pygments_lexer": "ipython3",
   "version": "3.6.5"
  }
 },
 "nbformat": 4,
 "nbformat_minor": 2
}
