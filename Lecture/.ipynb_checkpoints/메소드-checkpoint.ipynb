{
 "cells": [
  {
   "cell_type": "markdown",
   "metadata": {},
   "source": [
    "# Method\n",
    "---\n",
    "    \n",
    "```\n",
    "//정의\n",
    "  \n",
    "class 클래스_이름   \n",
    "    {  \n",
    "        반환_type 메소드_이름 (형식_매개변수)  \n",
    "            {  \n",
    "                메소드 내용  \n",
    "            } \n",
    "    }  \n",
    "  \n",
    "//메소드 사용법 \n",
    "\n",
    "클래스_이름 인스턴스_이름 = new 클래스_이름(); //클래스 객체 생성\n",
    "\n",
    "인스턴스_이름.메소드_이름(실_매개변수); //메소드의 반환 type이 void 일 때\n",
    "\n",
    "```\n",
    "메소드 반환타입에 void로 작성 시  \n",
    "메소드 이름에는 아무 값도 저장하지 않는다.  \n",
    "  \n",
    "하지만 메소드 반환타입에 특정type으로 작성 시   \n",
    "메소드 이름에는 return을 이용해 해당 값을  \n",
    "**메소드 이름**에 저장한다.  (메소드 이름은 변수처럼 사용이 가능하기 때문)  \n",
    "이후 메소드를 호출한 부분에 메소드 이름에 저장된 값을 전달한다.  \n"
   ]
  }
 ],
 "metadata": {
  "kernelspec": {
   "display_name": "Python 3",
   "language": "python",
   "name": "python3"
  },
  "language_info": {
   "codemirror_mode": {
    "name": "ipython",
    "version": 3
   },
   "file_extension": ".py",
   "mimetype": "text/x-python",
   "name": "python",
   "nbconvert_exporter": "python",
   "pygments_lexer": "ipython3",
   "version": "3.6.5"
  }
 },
 "nbformat": 4,
 "nbformat_minor": 2
}
