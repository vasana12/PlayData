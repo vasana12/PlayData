{
 "cells": [
  {
   "cell_type": "code",
   "execution_count": null,
   "metadata": {},
   "outputs": [],
   "source": [
    "import numpy as np\n",
    "import pandas as pd\n",
    "import matplotlib.pyplot as plt \n",
    "import tensorflow as tf\n",
    "import csv\n",
    "from pandas import DataFrame, Series\n",
    "\n",
    "trainFile = pd.read_csv('C:/Users/Playdata/Desktop/DeepLearningProject/data/train.csv')\n",
    "testFile =  pd.read_csv('C:/Users/Playdata/Desktop/DeepLearningProject/data/test.csv')\n",
    "answerFile =  pd.read_csv('C:/Users/Playdata/Desktop/DeepLearningProject/data/gender_submission.csv')\n",
    "\n",
    "trainFrame = DataFrame(trainFile)\n",
    "testFrame = DataFrame(testFile)\n",
    "answerFrame = DataFrame(answerFile)\n",
    "#print(trainFrame)\n",
    "\n",
    "#In this data, replace the NaN data to common data. \n",
    "#It is very important and basic process. Becaus the NaN data make error\n",
    "trainFrame.PassengerId = trainFrame.PassengerId.replace(np.nan,1)\n",
    "trainFrame.Survived = trainFrame.Survived.replace(np.nan,1)\n",
    "trainFrame.Pclass = trainFrame.Pclass.replace(np.nan,3)\n",
    "trainFrame.Name = trainFrame.Name.replace(np.nan,'Unknown')\n",
    "trainFrame.Sex = trainFrame.Sex.replace(np.nan,'female')\n",
    "trainFrame.Age = trainFrame.Age.replace(np.nan,20.0)\n",
    "\n",
    "trainFrame.SibSp = trainFrame.SibSp.replace(np.nan,0)\n",
    "trainFrame.Parch = trainFrame.Parch.replace(np.nan,0)\n",
    "del trainFrame['Ticket']\n",
    "\n",
    "i = 0\n",
    "\n",
    "print(trainFrame['Age'])\n"
   ]
  }
 ],
 "metadata": {
  "kernelspec": {
   "display_name": "Python 3",
   "language": "python",
   "name": "python3"
  },
  "language_info": {
   "codemirror_mode": {
    "name": "ipython",
    "version": 3
   },
   "file_extension": ".py",
   "mimetype": "text/x-python",
   "name": "python",
   "nbconvert_exporter": "python",
   "pygments_lexer": "ipython3",
   "version": "3.6.5"
  }
 },
 "nbformat": 4,
 "nbformat_minor": 2
}
