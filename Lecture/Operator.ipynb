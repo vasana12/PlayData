{
 "cells": [
  {
   "cell_type": "markdown",
   "metadata": {},
   "source": [
    "# 연산자\n",
    "---\n",
    "#### +=, -=, *=, /=, %=\n",
    "\n",
    "###### +=\n",
    "```\n",
    "int a = 5;\n",
    "a += 5;    // a = 10\n",
    "\n",
    "```\n",
    "\n",
    "###### -=\n",
    "```\n",
    "int a = 5;\n",
    "a -= 5;    // a = 0\n",
    "```\n",
    "\n",
    "....\n",
    "\n",
    "##### /= 는 주의점이 있다.\n",
    "\n",
    "```\n",
    "int a = 1;\n",
    "\n",
    "a /= 2.0f;   \n",
    "\n",
    "// a값은 얼마일까?\n",
    "  \n",
    "  \n",
    "```\n",
    "  \n",
    "정답은 0이다.\n",
    "\n",
    "- 이유는 다음과 같다.  \n",
    ">a /= 2.0f는 a = a / 2.0f와 같다. 이 때 a / 2.0f값은 0.5f 실수 값이지만  \n",
    "     int a에 다시 대입할 때, 더 큰 형식인 float에서 int로 자동 형변환이 이루어 지기 때문에   \n",
    "     값이 0이 나온다.  \n",
    "  \n",
    "    **이 점 주의하자.**  \n",
    "\n",
    "\n",
    "\n",
    "#### ++의 위치에 다른 차이  \n",
    "```\n",
    "int num = 1;\n",
    "int a = num++;  //a = 1 , num = 2\n",
    "\n",
    "int num = 1;\n",
    "int a = ++num;  //a = 2 , num = 2\n",
    "\n",
    "--도 마찬가지\n",
    "\n",
    "```"
   ]
  }
 ],
 "metadata": {
  "kernelspec": {
   "display_name": "Python 3",
   "language": "python",
   "name": "python3"
  },
  "language_info": {
   "codemirror_mode": {
    "name": "ipython",
    "version": 3
   },
   "file_extension": ".py",
   "mimetype": "text/x-python",
   "name": "python",
   "nbconvert_exporter": "python",
   "pygments_lexer": "ipython3",
   "version": "3.6.5"
  }
 },
 "nbformat": 4,
 "nbformat_minor": 2
}
