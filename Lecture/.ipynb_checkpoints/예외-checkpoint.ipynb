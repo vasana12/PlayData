{
 "cells": [
  {
   "cell_type": "markdown",
   "metadata": {},
   "source": [
    "# Exception  \n",
    "---\n",
    "**예외 처리** \n",
    "```\n",
    "try {\n",
    "   명령문 \n",
    "}\n",
    "catch(exception class e){\n",
    "    에러가 발생 했을 시 명령문\n",
    "}\n",
    "fianlly{\n",
    "    에러가 발생 하든, 안 하든 무조건 실행되는 명령문    \n",
    "}\n",
    "\n",
    "```\n",
    "\n",
    ">exception class 는 java.lang. 식으로 접근하며,  \n",
    "에러 종류에 따라 알맞는 exception class를 작성해야 한다. (찾아서 해야한다함...)  \n",
    "그리고 exception class 다음에 오는 **e**는 레퍼런스 변수로 **주소값을 기억**한다.  \n",
    "  \n",
    ">java에서는 예외가 발생하면 **예외 객체**를 생성하게 된다.  \n",
    "이 후, catch문에서 해당 예외 객체를 참조 할 수 있는 \n",
    "레퍼런스 변수 e를 찾는다.   \n",
    "  \n",
    "  \n",
    ">만약 catch문에서 조건이 맞는 e를 찾았다면,  \n",
    "**e에 예외 객체의 주소를 참조**하게 된다.  \n",
    "그렇지 않다면 예외를 던지고 프로그램은 중단된다.\n",
    "  \n",
    "   Tip 해당 객체의 메세지를 알고싶다면  \n",
    "   e.getMessage()를 이용하자.  \n",
    "   \n",
    "   Tip finally\n",
    "   finally 구문에는 주로 객체의 반납 ex) close() 과 같은 작업을 수행한다.  \n",
    "   또, catch 혹은 try문에서 breadk of return과 같은 구문이 실행 되어도  \n",
    "   finally구문은 반드시 실행된다.  \n",
    "   \n",
    "   Tip 예외 클래스는 매우 많고, 정의되지 않은 예외도 많다.  \n",
    "   이 때는 실행을 시킨 후, 예외 메세지를 보고 찾아서 예외처리를 하거나,  \n",
    "   사용자가 직접 예외 클래스를 만들어 사용해야 한다."
   ]
  }
 ],
 "metadata": {
  "kernelspec": {
   "display_name": "Python 3",
   "language": "python",
   "name": "python3"
  },
  "language_info": {
   "codemirror_mode": {
    "name": "ipython",
    "version": 3
   },
   "file_extension": ".py",
   "mimetype": "text/x-python",
   "name": "python",
   "nbconvert_exporter": "python",
   "pygments_lexer": "ipython3",
   "version": "3.6.5"
  }
 },
 "nbformat": 4,
 "nbformat_minor": 2
}
