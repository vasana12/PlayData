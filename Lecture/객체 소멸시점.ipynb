{
 "cells": [
  {
   "cell_type": "markdown",
   "metadata": {},
   "source": [
    "# Method에서 객체 반환\n",
    "---\n",
    "```\n",
    "static int [] returnArr (int num1 ,int num2)  \n",
    "{\n",
    "    int [] arr = new int [2];  \n",
    "    arr[0] = num1;\n",
    "    arr[1] = num2;\n",
    "    \n",
    "    return arr;\n",
    "\n",
    "}\n",
    "```  \n",
    "위의 메소드를 메인에서 호출해보자  \n",
    "\n",
    "```\n",
    "public static void main(args[])\n",
    "{\n",
    "    int [] arr = returnArr(2,3);\n",
    "}\n",
    "```\n",
    "\n",
    "reutrnArr메소드에서 배열(객체)를 생성하고 이를   \n",
    "메인에서 호출한 지점에서 해당 객체의 **주소**를 반환한다.  \n",
    "이때 배열자체는 사라지지 않고 메소드의 arr(객체 주소를 저장한 변수)가 지워지고  \n",
    "배열을 가리키는 주소는 main의 arr에 저장되어 해당 **객체는 지워지지 않는다.**    \n",
    "  \n",
    "  \n",
    "# JAVA 객체 소멸 시점  \n",
    "---\n",
    "\n",
    "Java에서 객체 소멸 시점은   \n",
    "**객체를 참조하는 (주소)변수가 사라질 때!**  \n",
    "  \n",
    "  \n",
    "즉 객체를 찾아가기 위한 주소가 하나도 없어  \n",
    "해당 객체에 접근 할 수 없을 때!  \n",
    "\n"
   ]
  }
 ],
 "metadata": {
  "kernelspec": {
   "display_name": "Python 3",
   "language": "python",
   "name": "python3"
  },
  "language_info": {
   "codemirror_mode": {
    "name": "ipython",
    "version": 3
   },
   "file_extension": ".py",
   "mimetype": "text/x-python",
   "name": "python",
   "nbconvert_exporter": "python",
   "pygments_lexer": "ipython3",
   "version": "3.6.5"
  }
 },
 "nbformat": 4,
 "nbformat_minor": 2
}
