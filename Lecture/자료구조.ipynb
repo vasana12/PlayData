{
 "cells": [
  {
   "cell_type": "markdown",
   "metadata": {},
   "source": [
    "# 자료구조\n",
    "---\n",
    "자료구조는 데이터를 더 효율적으로 다룰수 있도록 구조를 만들어 저장해둔 것  \n",
    "\n",
    "  \n",
    "### ArrayList 클래스  \n",
    "\n",
    "```\n",
    "ArrayList<classType> 식별자 = new ArrayList<classType>();\n",
    "    \n",
    "ex)\n",
    "ArrayList<String> list = new ArrayList<String>();\n",
    "list.add(\"a\");\n",
    "list.add(\"b\");\n",
    "list.add(\"c\");\n",
    "String str = list.get(0);\n",
    "String str2 = list.get(1);\n",
    "String str3 = list.get(2);\n",
    "    \n",
    "System.out.print(str);\n",
    "System.out.print(str2);\n",
    "System.out.print(str3);\n",
    "\n",
    "```\n",
    "배열과 다르게 ArrayList를 사용하면 데이터를 관리 (삽입, 수정, 삭제)가 매우 편하다.  \n",
    "add 메소드를 사용하면 배열의 맨 마지막에 데이터를 삽입한다.  \n",
    "get()메소드는 arr[인덱스]와 마찬가지로 생각하면 된다.  "
   ]
  }
 ],
 "metadata": {
  "kernelspec": {
   "display_name": "Python 3",
   "language": "python",
   "name": "python3"
  },
  "language_info": {
   "codemirror_mode": {
    "name": "ipython",
    "version": 3
   },
   "file_extension": ".py",
   "mimetype": "text/x-python",
   "name": "python",
   "nbconvert_exporter": "python",
   "pygments_lexer": "ipython3",
   "version": "3.6.5"
  }
 },
 "nbformat": 4,
 "nbformat_minor": 2
}
