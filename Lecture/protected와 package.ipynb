{
 "cells": [
  {
   "cell_type": "markdown",
   "metadata": {},
   "source": [
    "# protected와 package\n",
    "---\n",
    "다음 코드를 살펴 보자  \n",
    "  \n",
    "  \n",
    "```\n",
    "package package1.package2;\n",
    "\n",
    "public class PackageClass2 {\n",
    "\tprotected String a, b, c;\n",
    "\t\n",
    "\tprotected PackageClass2(String a,String b,String c){\n",
    "\t\tthis.a = a;\n",
    "\t\tthis.b = b;\n",
    "\t\tthis.c = c;\n",
    "\t}\n",
    "}\n",
    "```\n",
    "\n",
    "```\n",
    "package package1;\n",
    "\n",
    "import package1.package2.PackageClass2;\n",
    "\n",
    "public class PackageClass1 extends PackageClass2{\n",
    "\t\n",
    "\tPackageClass1(String a, String b, String c){\n",
    "\t\tsuper(a,b,c);\n",
    "\t}\n",
    "\tPackageClass2 pc2 = new PackageClass2(\"a\",\"b\",\"c\");\n",
    "\n",
    "}\n",
    "```\n",
    " PackageClass2 가 부모 클래스,  PackageClass1이 자식클래스이다.  \n",
    "이 때,  PackageClass1에서 에러가 발생한다.  \n",
    "에러 지점은 PackageClass2 pc2 = new PackageClass2(\"a\",\"b\",\"c\");이다.  \n",
    "왜 에러가 발생하는가?  \n",
    "부모 클래스는 protected로 제한 해줬고,  \n",
    "자식클래스는 이에 접근이 가능해야 한다.  \n",
    "하지만 그렇지 않다.  \n",
    "  \n",
    "부모 클래스의 생성자를 주목하라.  \n",
    "해당 생성자는 protected로 되어있다.  \n",
    "따라서 자식 클래스의 생성자에서 super()로 부모 클래스의 생성자에 접근이 가능하다.  \n",
    "하지만 자식클래스에서 직접 부모클래스의 객체를 생성할 때,  \n",
    "PackageClass2 pc2 = new PackageClass2(\"a\",\"b\",\"c\");는 불가능 하다.  \n",
    "부모 클래스의 protected PackagecClass2(){}생성자는  \n",
    "자식에서 super()사용을 허용하는 의미이다.  \n",
    "\n",
    "\n",
    "\n"
   ]
  }
 ],
 "metadata": {
  "kernelspec": {
   "display_name": "Python 3",
   "language": "python",
   "name": "python3"
  },
  "language_info": {
   "codemirror_mode": {
    "name": "ipython",
    "version": 3
   },
   "file_extension": ".py",
   "mimetype": "text/x-python",
   "name": "python",
   "nbconvert_exporter": "python",
   "pygments_lexer": "ipython3",
   "version": "3.6.5"
  }
 },
 "nbformat": 4,
 "nbformat_minor": 2
}
