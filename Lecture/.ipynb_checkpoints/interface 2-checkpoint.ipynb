{
 "cells": [
  {
   "cell_type": "markdown",
   "metadata": {},
   "source": [
    "# 인터페이스2  \n",
    "---  \n",
    "  \n",
    "### 인터페이스 기능  \n",
    "\n",
    "java 1.8 이후 버전 부터 사용 가능  \n",
    "\n",
    "```\n",
    "public interface Abcinterface {\n",
    "    \n",
    "    public void method1();\n",
    "    \n",
    "    pbulic default void method2(){                      //defulat 키워드 추가 시, 상속 받은 클래스에서 해당 \n",
    "        System.out.print(\"Abcinterface method2 실행\");  //메소드 오버라이딩 안했을 시,\n",
    "    }                                                   //상속 받은 클래스에 해당 메소드가 default로 구현됨.\n",
    "    \n",
    "    pbulic static void method3(){                       //static 키워드 추가시, 해당 인터페이스 이름(Abcinterface).메소드 이름으로\n",
    "        System.out.print(\"Abcinterface method3  실행\"); //객체 생성 없이 바로 사용 가능 ex) Abcinterface.method3()\n",
    "    }\n",
    "    \n",
    "}\n",
    "```\n",
    "인터페이스를 상속 받은 클래스에서   \n",
    "오버라이드( 인터페이스 추상 메소드 구현) 해줄 때,  \n",
    "해당 메소드 위에 @override 라는 어노테이션을 작성 해주면,  \n",
    "구현한 메소드의 이름이 추상 메소드와 이름이 다르면  \n",
    "오류를 반환한다.\n",
    "    "
   ]
  }
 ],
 "metadata": {
  "kernelspec": {
   "display_name": "Python 3",
   "language": "python",
   "name": "python3"
  },
  "language_info": {
   "codemirror_mode": {
    "name": "ipython",
    "version": 3
   },
   "file_extension": ".py",
   "mimetype": "text/x-python",
   "name": "python",
   "nbconvert_exporter": "python",
   "pygments_lexer": "ipython3",
   "version": "3.6.5"
  }
 },
 "nbformat": 4,
 "nbformat_minor": 2
}
